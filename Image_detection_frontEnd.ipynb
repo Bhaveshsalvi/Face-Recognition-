{
 "cells": [
  {
   "cell_type": "code",
   "execution_count": 1,
   "metadata": {},
   "outputs": [],
   "source": [
    "import os \n",
    "os.environ['KERAS_BACKEND'] = 'theano'"
   ]
  },
  {
   "cell_type": "code",
   "execution_count": null,
   "metadata": {},
   "outputs": [],
   "source": []
  },
  {
   "cell_type": "code",
   "execution_count": 2,
   "metadata": {},
   "outputs": [
    {
     "name": "stderr",
     "output_type": "stream",
     "text": [
      "Using Theano backend.\n"
     ]
    }
   ],
   "source": [
    "from PIL import Image\n",
    "from keras.applications.vgg16 import preprocess_input\n",
    "import base64\n",
    "from io import BytesIO\n",
    "import json\n",
    "import random\n",
    "import cv2\n",
    "from keras.models import load_model\n",
    "import numpy as np\n",
    "\n",
    "from keras.preprocessing import image\n",
    "model = load_model('facefeatures_new_model.h5')\n",
    "\n"
   ]
  },
  {
   "cell_type": "code",
   "execution_count": null,
   "metadata": {},
   "outputs": [
    {
     "name": "stdout",
     "output_type": "stream",
     "text": [
      "[[1.0000000e+00 2.3599941e-20]]\n",
      "[[0.72171205 0.27828792]]\n",
      "[[1.4497782e-07 9.9999988e-01]]\n",
      "[[7.820846e-16 1.000000e+00]]\n",
      "[[6.748665e-13 1.000000e+00]]\n",
      "[[1.7938682e-21 1.0000000e+00]]\n",
      "[[4.8807078e-20 1.0000000e+00]]\n",
      "[[3.4675593e-21 1.0000000e+00]]\n",
      "[[8.928659e-15 1.000000e+00]]\n",
      "[[4.1786825e-16 1.0000000e+00]]\n",
      "[[4.595153e-14 1.000000e+00]]\n",
      "[[3.1047693e-13 1.0000000e+00]]\n",
      "[[1.6507835e-04 9.9983490e-01]]\n",
      "[[2.0969488e-13 1.0000000e+00]]\n",
      "[[9.291457e-05 9.999071e-01]]\n",
      "[[0.02258222 0.97741777]]\n",
      "[[9.999991e-01 8.833422e-07]]\n",
      "[[1.0000000e+00 3.8156608e-10]]\n",
      "[[9.9969918e-01 3.0085148e-04]]\n",
      "[[0.89821005 0.10178997]]\n",
      "[[7.5867494e-05 9.9992412e-01]]\n",
      "[[0.8948594  0.10514062]]\n",
      "[[0.22672679 0.7732732 ]]\n",
      "[[3.679377e-12 1.000000e+00]]\n",
      "[[8.9077868e-05 9.9991095e-01]]\n",
      "[[1.000000e+00 3.164174e-18]]\n",
      "[[1.0000000e+00 1.2507014e-24]]\n",
      "[[1.000000e+00 2.843241e-23]]\n",
      "[[1.0000000e+00 4.0915467e-17]]\n",
      "[[1.0000000e+00 4.9224866e-17]]\n",
      "[[4.9498653e-17 1.0000000e+00]]\n",
      "[[3.4581383e-11 1.0000000e+00]]\n",
      "[[7.4308925e-22 1.0000000e+00]]\n",
      "[[5.288578e-13 1.000000e+00]]\n",
      "[[8.734879e-15 1.000000e+00]]\n",
      "[[1.028206e-25 1.000000e+00]]\n",
      "[[2.599553e-26 1.000000e+00]]\n",
      "[[2.3479842e-12 1.0000000e+00]]\n",
      "[[1.525274e-12 1.000000e+00]]\n",
      "[[1.000000e+00 5.472145e-19]]\n",
      "[[1.0000000e+00 3.9194976e-29]]\n",
      "[[5.1092085e-11 1.0000000e+00]]\n",
      "[[3.8085837e-15 1.0000000e+00]]\n",
      "[[2.5916999e-12 1.0000000e+00]]\n",
      "[[7.11161e-12 1.00000e+00]]\n",
      "[[6.218457e-16 1.000000e+00]]\n",
      "[[9.5898385e-15 1.0000000e+00]]\n",
      "[[7.7771874e-06 9.9999225e-01]]\n",
      "[[1.8043585e-17 1.0000000e+00]]\n",
      "[[5.828294e-18 1.000000e+00]]\n",
      "[[7.0784027e-19 1.0000000e+00]]\n",
      "[[2.4010328e-25 1.0000000e+00]]\n",
      "[[7.115434e-20 1.000000e+00]]\n",
      "[[1.0305324e-14 1.0000000e+00]]\n"
     ]
    }
   ],
   "source": [
    "# Loading the cascades\n",
    "face_cascade = cv2.CascadeClassifier('D:\\Jupyter Notebook\\Real time Object Detection using Transfer learninng\\haarcascade_frontalface_default.xml')\n",
    "\n",
    "def face_extractor(img):\n",
    "    # Function detects faces and returns the cropped face\n",
    "    # If no face detected, it returns the input image\n",
    "    \n",
    "    #gray = cv2.cvtColor(img,cv2.COLOR_BGR2GRAY)\n",
    "    faces = face_cascade.detectMultiScale(img, 1.3, 5)\n",
    "    \n",
    "    if faces is ():\n",
    "        return None\n",
    "    \n",
    "    # Crop all faces found\n",
    "    for (x,y,w,h) in faces:\n",
    "        cv2.rectangle(img,(x,y),(x+w,y+h),(0,255,255),2)\n",
    "        cropped_face = img[y:y+h, x:x+w]\n",
    "\n",
    "    return cropped_face\n",
    "\n",
    "# Doing some Face Recognition with the webcam\n",
    "video_capture = cv2.VideoCapture(0)\n",
    "while True:\n",
    "    _, frame = video_capture.read()\n",
    "    #canvas = detect(gray, frame)\n",
    "    #image, face =face_detector(frame)\n",
    "    \n",
    "    face=face_extractor(frame)\n",
    "    if type(face) is np.ndarray:\n",
    "        face = cv2.resize(face, (224, 224))\n",
    "        im = Image.fromarray(face, 'RGB')\n",
    "           #Resizing into 128x128 because we trained the model with this image size.\n",
    "        img_array = np.array(im)\n",
    "                    #Our keras model used a 4D tensor, (images x height x width x channel)\n",
    "                    #So changing dimension 128x128x3 into 1x128x128x3 \n",
    "        img_array = np.expand_dims(img_array, axis=0)\n",
    "        pred = model.predict(img_array)\n",
    "        print(pred)\n",
    "                     \n",
    "        name=\"None matching\"\n",
    "        \n",
    "        if(pred[0][1]>0.5):\n",
    "            name='Bhavesh'\n",
    "        elif(pred[0][0]>0.5):\n",
    "            name='Aparajita'\n",
    "        cv2.putText(frame,name, (50, 50), cv2.FONT_HERSHEY_COMPLEX, 1, (0,255,0), 2)\n",
    "    else:\n",
    "        cv2.putText(frame,\"No face found\", (50, 50), cv2.FONT_HERSHEY_COMPLEX, 1, (0,255,0), 2)\n",
    "    cv2.imshow('Video', frame)\n",
    "    if cv2.waitKey(1) & 0xFF == ord('q'):\n",
    "        break\n",
    "video_capture.release()\n",
    "cv2.destroyAllWindows()"
   ]
  }
 ],
 "metadata": {
  "kernelspec": {
   "display_name": "Python 3",
   "language": "python",
   "name": "python3"
  },
  "language_info": {
   "codemirror_mode": {
    "name": "ipython",
    "version": 3
   },
   "file_extension": ".py",
   "mimetype": "text/x-python",
   "name": "python",
   "nbconvert_exporter": "python",
   "pygments_lexer": "ipython3",
   "version": "3.7.3"
  }
 },
 "nbformat": 4,
 "nbformat_minor": 4
}
